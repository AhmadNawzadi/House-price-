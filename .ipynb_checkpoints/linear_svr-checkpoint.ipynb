{
 "cells": [
  {
   "cell_type": "markdown",
   "metadata": {
    "toc": true
   },
   "source": [
    "<h1>Table of Contents<span class=\"tocSkip\"></span></h1>\n",
    "<div class=\"toc\"><ul class=\"toc-item\"><li><span><a href=\"#Get-and-prepare-dataset\" data-toc-modified-id=\"Get-and-prepare-dataset-1\"><span class=\"toc-item-num\">1&nbsp;&nbsp;</span>Get and prepare dataset</a></span></li><li><span><a href=\"#Build-and-train-the-model\" data-toc-modified-id=\"Build-and-train-the-model-2\"><span class=\"toc-item-num\">2&nbsp;&nbsp;</span>Build and train the model</a></span><ul class=\"toc-item\"><li><span><a href=\"#Scale-target\" data-toc-modified-id=\"Scale-target-2.1\"><span class=\"toc-item-num\">2.1&nbsp;&nbsp;</span>Scale target</a></span></li><li><span><a href=\"#Split-data-set\" data-toc-modified-id=\"Split-data-set-2.2\"><span class=\"toc-item-num\">2.2&nbsp;&nbsp;</span>Split data set</a></span></li><li><span><a href=\"#Adjust-the-parameters-of-the-model\" data-toc-modified-id=\"Adjust-the-parameters-of-the-model-2.3\"><span class=\"toc-item-num\">2.3&nbsp;&nbsp;</span>Adjust the parameters of the model</a></span></li><li><span><a href=\"#Train-model\" data-toc-modified-id=\"Train-model-2.4\"><span class=\"toc-item-num\">2.4&nbsp;&nbsp;</span>Train model</a></span></li><li><span><a href=\"#Check-the-parameters-of-the-best-model\" data-toc-modified-id=\"Check-the-parameters-of-the-best-model-2.5\"><span class=\"toc-item-num\">2.5&nbsp;&nbsp;</span>Check the parameters of the best model</a></span></li></ul></li><li><span><a href=\"#Results\" data-toc-modified-id=\"Results-3\"><span class=\"toc-item-num\">3&nbsp;&nbsp;</span>Results</a></span></li></ul></div>"
   ]
  },
  {
   "cell_type": "code",
   "execution_count": 1,
   "metadata": {},
   "outputs": [],
   "source": [
    "#import all libraries\n",
    "import pandas as pd\n",
    "import seaborn as sns\n",
    "import matplotlib.pyplot as plt\n",
    "import numpy as np\n",
    "\n",
    "#preprocessing and model selection\n",
    "from sklearn.impute import SimpleImputer\n",
    "from sklearn.preprocessing import OneHotEncoder, LabelEncoder, StandardScaler\n",
    "from sklearn.compose import ColumnTransformer\n",
    "from sklearn.pipeline import Pipeline\n",
    "from sklearn.model_selection import GridSearchCV, RandomizedSearchCV, RepeatedKFold, train_test_split, cross_val_score\n",
    "\n",
    "#regression model metrics\n",
    "from sklearn.metrics import mean_squared_error, r2_score\n",
    "\n",
    "#regression models\n",
    "from sklearn.svm import LinearSVR"
   ]
  },
  {
   "cell_type": "markdown",
   "metadata": {},
   "source": [
    "## Get and prepare dataset"
   ]
  },
  {
   "cell_type": "code",
   "execution_count": 2,
   "metadata": {},
   "outputs": [],
   "source": [
    "#download the dataset take 4 columns by the link\n",
    "path = 'https://simplonline-v3-prod.s3.eu-west-3.amazonaws.com/media/file/csv/bdfc59ed-c3c7-48ac-a3d3-9e54663f6c1d.csv'\n",
    "target = 'SalePrice'\n",
    "df = pd.read_csv(path)\n",
    "#df = df[[\"OverallQual\",\"GrLivArea\", 'Neighborhood', \"SalePrice\"]]\n",
    "df = df[['LotArea', 'OverallQual', '1stFlrSF', 'YearBuilt', 'YearRemodAdd', 'MasVnrArea', 'BsmtFinSF1', 'TotalBsmtSF', 'GrLivArea', 'FullBath', 'TotRmsAbvGrd', 'Fireplaces', 'GarageCars', 'GarageArea', 'MSZoning', 'LotShape', 'LandContour', 'Neighborhood', 'Condition1', 'Condition2', 'HouseStyle', 'RoofMatl', 'Exterior1st', 'Exterior2nd', 'ExterQual', 'BsmtQual', 'BsmtExposure', 'KitchenQual', 'Functional', 'SaleType', 'SaleCondition', \"SalePrice\"]]\n"
   ]
  },
  {
   "cell_type": "code",
   "execution_count": 3,
   "metadata": {},
   "outputs": [
    {
     "name": "stdout",
     "output_type": "stream",
     "text": [
      "<class 'pandas.core.frame.DataFrame'>\n",
      "RangeIndex: 1460 entries, 0 to 1459\n",
      "Data columns (total 32 columns):\n",
      " #   Column         Non-Null Count  Dtype  \n",
      "---  ------         --------------  -----  \n",
      " 0   LotArea        1460 non-null   int64  \n",
      " 1   OverallQual    1460 non-null   int64  \n",
      " 2   1stFlrSF       1460 non-null   int64  \n",
      " 3   YearBuilt      1460 non-null   int64  \n",
      " 4   YearRemodAdd   1460 non-null   int64  \n",
      " 5   MasVnrArea     1452 non-null   float64\n",
      " 6   BsmtFinSF1     1460 non-null   int64  \n",
      " 7   TotalBsmtSF    1460 non-null   int64  \n",
      " 8   GrLivArea      1460 non-null   int64  \n",
      " 9   FullBath       1460 non-null   int64  \n",
      " 10  TotRmsAbvGrd   1460 non-null   int64  \n",
      " 11  Fireplaces     1460 non-null   int64  \n",
      " 12  GarageCars     1460 non-null   int64  \n",
      " 13  GarageArea     1460 non-null   int64  \n",
      " 14  MSZoning       1460 non-null   object \n",
      " 15  LotShape       1460 non-null   object \n",
      " 16  LandContour    1460 non-null   object \n",
      " 17  Neighborhood   1460 non-null   object \n",
      " 18  Condition1     1460 non-null   object \n",
      " 19  Condition2     1460 non-null   object \n",
      " 20  HouseStyle     1460 non-null   object \n",
      " 21  RoofMatl       1460 non-null   object \n",
      " 22  Exterior1st    1460 non-null   object \n",
      " 23  Exterior2nd    1460 non-null   object \n",
      " 24  ExterQual      1460 non-null   object \n",
      " 25  BsmtQual       1423 non-null   object \n",
      " 26  BsmtExposure   1422 non-null   object \n",
      " 27  KitchenQual    1460 non-null   object \n",
      " 28  Functional     1460 non-null   object \n",
      " 29  SaleType       1460 non-null   object \n",
      " 30  SaleCondition  1460 non-null   object \n",
      " 31  SalePrice      1460 non-null   int64  \n",
      "dtypes: float64(1), int64(14), object(17)\n",
      "memory usage: 365.1+ KB\n"
     ]
    }
   ],
   "source": [
    "#check the dataset\n",
    "df.info()"
   ]
  },
  {
   "cell_type": "code",
   "execution_count": 4,
   "metadata": {},
   "outputs": [],
   "source": [
    "#separate target from features\n",
    "X = df.drop(columns = [target])\n",
    "y = df[[target]]"
   ]
  },
  {
   "cell_type": "markdown",
   "metadata": {},
   "source": [
    "## Build and train the model"
   ]
  },
  {
   "cell_type": "code",
   "execution_count": 5,
   "metadata": {},
   "outputs": [
    {
     "name": "stdout",
     "output_type": "stream",
     "text": [
      "Index(['MSZoning', 'LotShape', 'LandContour', 'Neighborhood', 'Condition1',\n",
      "       'Condition2', 'HouseStyle', 'RoofMatl', 'Exterior1st', 'Exterior2nd',\n",
      "       'ExterQual', 'BsmtQual', 'BsmtExposure', 'KitchenQual', 'Functional',\n",
      "       'SaleType', 'SaleCondition'],\n",
      "      dtype='object')\n",
      "Index(['LotArea', 'OverallQual', '1stFlrSF', 'YearBuilt', 'YearRemodAdd',\n",
      "       'MasVnrArea', 'BsmtFinSF1', 'TotalBsmtSF', 'GrLivArea', 'FullBath',\n",
      "       'TotRmsAbvGrd', 'Fireplaces', 'GarageCars', 'GarageArea'],\n",
      "      dtype='object')\n"
     ]
    }
   ],
   "source": [
    "#create Pipeline with transformation + model\n",
    "\n",
    "numeric_transformer = Pipeline(steps=[('imputer', SimpleImputer(\n",
    "    strategy='most_frequent')), ('scaler', StandardScaler())])\n",
    "\n",
    "categorical_transformer = Pipeline(\n",
    "    steps=[('imputer', SimpleImputer(strategy='constant', fill_value='missing')\n",
    "            ), ('onehot', OneHotEncoder(handle_unknown='ignore'))])\n",
    "\n",
    "numeric_features = df.select_dtypes(include=['int64', 'float64']).drop(\n",
    "    columns=[target]).columns\n",
    "categorical_features = df.select_dtypes(include=['object']).columns\n",
    "\n",
    "\n",
    "preprocessor = ColumnTransformer(\n",
    "    transformers=[\n",
    "        ('num', numeric_transformer, numeric_features),\n",
    "        ('cat', categorical_transformer, categorical_features),\n",
    "    ])\n",
    "\n",
    "print(categorical_features)\n",
    "print(numeric_features)\n",
    "lsvr = Pipeline(steps=[('preprocessor', preprocessor),                       \n",
    "                      ('regressor', LinearSVR())])"
   ]
  },
  {
   "cell_type": "markdown",
   "metadata": {},
   "source": [
    "### Scale target"
   ]
  },
  {
   "cell_type": "code",
   "execution_count": 6,
   "metadata": {},
   "outputs": [],
   "source": [
    "y_scaler = StandardScaler() #(n,1)\n",
    "y_scaler.fit(y) # mean, std ->\n",
    "y = y_scaler.transform(y)"
   ]
  },
  {
   "cell_type": "markdown",
   "metadata": {},
   "source": [
    "### Split data set"
   ]
  },
  {
   "cell_type": "code",
   "execution_count": 7,
   "metadata": {},
   "outputs": [],
   "source": [
    "#split data set on test and train data\n",
    "X_train, X_test, y_train, y_test = train_test_split(X,\n",
    "                                                    y.ravel(),\n",
    "                                                    test_size=0.25,\n",
    "                                                    random_state=1)"
   ]
  },
  {
   "cell_type": "markdown",
   "metadata": {},
   "source": [
    "### Adjust the parameters of the model "
   ]
  },
  {
   "cell_type": "code",
   "execution_count": 8,
   "metadata": {},
   "outputs": [],
   "source": [
    "#parameters for pipeline model\n",
    "paramsLinearSVR = \\\n",
    "{\n",
    " 'regressor__C': [float(i)*0.1+0.1 for i in range(10)],\n",
    " #'regressor__dual': [True],\n",
    " #'regressor__epsilon': [0.0],\n",
    " #'regressor__fit_intercept': [True],\n",
    " #'regressor__intercept_scaling': [1.0],\n",
    " #'regressor__loss': ['epsilon_insensitive'],\n",
    " 'regressor__max_iter': [ 1000*float(i+9) for i in range(7)],\n",
    " #'regressor__random_state': [19],\n",
    " 'regressor__tol': [0.001],\n",
    " #'regressor__verbose': [0],\n",
    "\n",
    "}"
   ]
  },
  {
   "cell_type": "markdown",
   "metadata": {},
   "source": [
    "### Train model "
   ]
  },
  {
   "cell_type": "code",
   "execution_count": 29,
   "metadata": {},
   "outputs": [],
   "source": [
    "#cross validation\n",
    "cv1 = RepeatedKFold(n_splits=10, n_repeats=4, random_state=1)\n",
    "\n",
    "Grid = RandomizedSearchCV(lsvr, paramsLinearSVR, n_iter = 20, scoring='r2', cv=cv1)\n",
    "Grid.fit(X_train, y_train.ravel()) #(n,1) -> (n,)\n",
    "best_model = Grid.best_estimator_"
   ]
  },
  {
   "cell_type": "code",
   "execution_count": 30,
   "metadata": {},
   "outputs": [
    {
     "data": {
      "text/plain": [
       "{'mean_fit_time': array([0.04287403, 0.0657039 , 0.03502966, 0.10623489, 0.13342702,\n",
       "        0.06929649, 0.06277572, 0.15324385, 0.06130006, 0.09956005,\n",
       "        0.11603386, 0.13018025, 0.09554937, 0.1218647 , 0.1195703 ,\n",
       "        0.046962  , 0.1190756 , 0.07467009, 0.09385743, 0.06006689]),\n",
       " 'std_fit_time': array([0.00341202, 0.00738147, 0.0020868 , 0.00890615, 0.0202661 ,\n",
       "        0.00549233, 0.00846978, 0.0173529 , 0.00385513, 0.02504738,\n",
       "        0.00822526, 0.00945834, 0.00884755, 0.00825352, 0.01120721,\n",
       "        0.00387983, 0.0099103 , 0.00373279, 0.00700464, 0.00569638]),\n",
       " 'mean_score_time': array([0.00653043, 0.00690699, 0.00638297, 0.00674834, 0.00829349,\n",
       "        0.00844018, 0.00929433, 0.0105274 , 0.0111208 , 0.01007146,\n",
       "        0.00931882, 0.00879779, 0.00868098, 0.00909691, 0.00893308,\n",
       "        0.00841957, 0.00861822, 0.00925715, 0.0083909 , 0.00897116]),\n",
       " 'std_score_time': array([0.00090116, 0.00115116, 0.00056354, 0.00070167, 0.00146938,\n",
       "        0.00099182, 0.00191374, 0.00215476, 0.00095903, 0.00271685,\n",
       "        0.00068181, 0.00110537, 0.00112715, 0.00106559, 0.00126029,\n",
       "        0.00071015, 0.00100667, 0.00094556, 0.00057452, 0.00117497]),\n",
       " 'param_regressor__tol': masked_array(data=[0.001, 0.001, 0.001, 0.001, 0.001, 0.001, 0.001, 0.001,\n",
       "                    0.001, 0.001, 0.001, 0.001, 0.001, 0.001, 0.001, 0.001,\n",
       "                    0.001, 0.001, 0.001, 0.001],\n",
       "              mask=[False, False, False, False, False, False, False, False,\n",
       "                    False, False, False, False, False, False, False, False,\n",
       "                    False, False, False, False],\n",
       "        fill_value='?',\n",
       "             dtype=object),\n",
       " 'param_regressor__max_iter': masked_array(data=[10000.0, 10000.0, 9000.0, 13000.0, 12000.0, 15000.0,\n",
       "                    9000.0, 11000.0, 10000.0, 11000.0, 9000.0, 13000.0,\n",
       "                    14000.0, 10000.0, 14000.0, 11000.0, 12000.0, 12000.0,\n",
       "                    15000.0, 11000.0],\n",
       "              mask=[False, False, False, False, False, False, False, False,\n",
       "                    False, False, False, False, False, False, False, False,\n",
       "                    False, False, False, False],\n",
       "        fill_value='?',\n",
       "             dtype=object),\n",
       " 'param_regressor__C': masked_array(data=[0.30000000000000004, 0.5, 0.2, 1.0, 1.0, 0.4,\n",
       "                    0.30000000000000004, 0.9, 0.2, 0.5, 0.7000000000000001,\n",
       "                    0.9, 0.6, 0.8, 0.8, 0.2, 0.8, 0.4, 0.6,\n",
       "                    0.30000000000000004],\n",
       "              mask=[False, False, False, False, False, False, False, False,\n",
       "                    False, False, False, False, False, False, False, False,\n",
       "                    False, False, False, False],\n",
       "        fill_value='?',\n",
       "             dtype=object),\n",
       " 'params': [{'regressor__tol': 0.001,\n",
       "   'regressor__max_iter': 10000.0,\n",
       "   'regressor__C': 0.30000000000000004},\n",
       "  {'regressor__tol': 0.001,\n",
       "   'regressor__max_iter': 10000.0,\n",
       "   'regressor__C': 0.5},\n",
       "  {'regressor__tol': 0.001,\n",
       "   'regressor__max_iter': 9000.0,\n",
       "   'regressor__C': 0.2},\n",
       "  {'regressor__tol': 0.001,\n",
       "   'regressor__max_iter': 13000.0,\n",
       "   'regressor__C': 1.0},\n",
       "  {'regressor__tol': 0.001,\n",
       "   'regressor__max_iter': 12000.0,\n",
       "   'regressor__C': 1.0},\n",
       "  {'regressor__tol': 0.001,\n",
       "   'regressor__max_iter': 15000.0,\n",
       "   'regressor__C': 0.4},\n",
       "  {'regressor__tol': 0.001,\n",
       "   'regressor__max_iter': 9000.0,\n",
       "   'regressor__C': 0.30000000000000004},\n",
       "  {'regressor__tol': 0.001,\n",
       "   'regressor__max_iter': 11000.0,\n",
       "   'regressor__C': 0.9},\n",
       "  {'regressor__tol': 0.001,\n",
       "   'regressor__max_iter': 10000.0,\n",
       "   'regressor__C': 0.2},\n",
       "  {'regressor__tol': 0.001,\n",
       "   'regressor__max_iter': 11000.0,\n",
       "   'regressor__C': 0.5},\n",
       "  {'regressor__tol': 0.001,\n",
       "   'regressor__max_iter': 9000.0,\n",
       "   'regressor__C': 0.7000000000000001},\n",
       "  {'regressor__tol': 0.001,\n",
       "   'regressor__max_iter': 13000.0,\n",
       "   'regressor__C': 0.9},\n",
       "  {'regressor__tol': 0.001,\n",
       "   'regressor__max_iter': 14000.0,\n",
       "   'regressor__C': 0.6},\n",
       "  {'regressor__tol': 0.001,\n",
       "   'regressor__max_iter': 10000.0,\n",
       "   'regressor__C': 0.8},\n",
       "  {'regressor__tol': 0.001,\n",
       "   'regressor__max_iter': 14000.0,\n",
       "   'regressor__C': 0.8},\n",
       "  {'regressor__tol': 0.001,\n",
       "   'regressor__max_iter': 11000.0,\n",
       "   'regressor__C': 0.2},\n",
       "  {'regressor__tol': 0.001,\n",
       "   'regressor__max_iter': 12000.0,\n",
       "   'regressor__C': 0.8},\n",
       "  {'regressor__tol': 0.001,\n",
       "   'regressor__max_iter': 12000.0,\n",
       "   'regressor__C': 0.4},\n",
       "  {'regressor__tol': 0.001,\n",
       "   'regressor__max_iter': 15000.0,\n",
       "   'regressor__C': 0.6},\n",
       "  {'regressor__tol': 0.001,\n",
       "   'regressor__max_iter': 11000.0,\n",
       "   'regressor__C': 0.30000000000000004}],\n",
       " 'split0_test_score': array([0.43704977, 0.44384144, 0.43545659, 0.43318887, 0.4316461 ,\n",
       "        0.44171205, 0.43740849, 0.43403367, 0.42916387, 0.44490842,\n",
       "        0.43918391, 0.43551234, 0.44305829, 0.43818738, 0.43848708,\n",
       "        0.42961776, 0.43705248, 0.4398981 , 0.44175097, 0.43551887]),\n",
       " 'split1_test_score': array([0.88653409, 0.88668386, 0.88662401, 0.88709929, 0.88733909,\n",
       "        0.88636216, 0.88598173, 0.88677831, 0.88614991, 0.8866392 ,\n",
       "        0.88760801, 0.88736042, 0.88749834, 0.8877997 , 0.8873383 ,\n",
       "        0.88571957, 0.88715816, 0.8858465 , 0.88735033, 0.88653399]),\n",
       " 'split2_test_score': array([0.80909597, 0.80353345, 0.81121684, 0.80074119, 0.80084861,\n",
       "        0.80635035, 0.80924719, 0.80182251, 0.81145579, 0.80321358,\n",
       "        0.8018147 , 0.8010006 , 0.80232547, 0.8012713 , 0.80140959,\n",
       "        0.81191743, 0.80133483, 0.80601039, 0.80211318, 0.80863105]),\n",
       " 'split3_test_score': array([0.9298768 , 0.930871  , 0.92875464, 0.93133797, 0.93135305,\n",
       "        0.93107881, 0.92956804, 0.93133619, 0.92896858, 0.93107928,\n",
       "        0.93148062, 0.93154693, 0.93127085, 0.93151983, 0.93139588,\n",
       "        0.92923416, 0.93141073, 0.93082565, 0.93121397, 0.92984361]),\n",
       " 'split4_test_score': array([0.91334393, 0.91209853, 0.91384501, 0.90995384, 0.91000699,\n",
       "        0.91305046, 0.91347102, 0.91036008, 0.91379509, 0.91200219,\n",
       "        0.91070029, 0.91022689, 0.91130855, 0.91031572, 0.91017905,\n",
       "        0.91371128, 0.91036816, 0.91303372, 0.9111959 , 0.91346895]),\n",
       " 'split5_test_score': array([0.92603235, 0.92416754, 0.92691691, 0.92268804, 0.92238493,\n",
       "        0.92546087, 0.92633626, 0.92305366, 0.92697232, 0.92465426,\n",
       "        0.92343847, 0.92323007, 0.92388126, 0.92330632, 0.92326946,\n",
       "        0.92712761, 0.9229268 , 0.92567242, 0.9236146 , 0.92645386]),\n",
       " 'split6_test_score': array([0.92257732, 0.92251956, 0.92068697, 0.92151404, 0.92210284,\n",
       "        0.92244944, 0.92233567, 0.92248308, 0.92110798, 0.92345268,\n",
       "        0.92219612, 0.92175394, 0.92285983, 0.92224127, 0.92209768,\n",
       "        0.92039246, 0.92207805, 0.92230443, 0.9231439 , 0.92249848]),\n",
       " 'split7_test_score': array([0.70465481, 0.72416311, 0.69132576, 0.72672052, 0.72643725,\n",
       "        0.71715237, 0.70492129, 0.72847557, 0.69066477, 0.72465234,\n",
       "        0.72824381, 0.72780714, 0.72719319, 0.72815417, 0.72795789,\n",
       "        0.69083841, 0.72761899, 0.717534  , 0.72721852, 0.70447201]),\n",
       " 'split8_test_score': array([0.91320826, 0.9118907 , 0.91421845, 0.90678845, 0.90686977,\n",
       "        0.91257792, 0.91337445, 0.90891719, 0.91448166, 0.91203734,\n",
       "        0.91032513, 0.90865061, 0.91119143, 0.90936337, 0.90974755,\n",
       "        0.91395624, 0.90987748, 0.91247815, 0.91124802, 0.91362312]),\n",
       " 'split9_test_score': array([0.89170508, 0.89802846, 0.89086097, 0.90234266, 0.90213871,\n",
       "        0.89478883, 0.89173452, 0.90219058, 0.89017597, 0.89803334,\n",
       "        0.90192928, 0.90249784, 0.90124309, 0.90224295, 0.90242623,\n",
       "        0.88999666, 0.90175201, 0.89484481, 0.9006259 , 0.89153622]),\n",
       " 'split10_test_score': array([0.89592484, 0.89959559, 0.89527423, 0.90128929, 0.90112905,\n",
       "        0.89799991, 0.89695828, 0.90012574, 0.89552161, 0.89945297,\n",
       "        0.90044751, 0.90019175, 0.89980149, 0.90007326, 0.899651  ,\n",
       "        0.89574833, 0.90007738, 0.89835237, 0.89975553, 0.89622546]),\n",
       " 'split11_test_score': array([0.88274522, 0.88551492, 0.87909852, 0.8830148 , 0.88348867,\n",
       "        0.88528875, 0.88313731, 0.88334338, 0.87915315, 0.88548044,\n",
       "        0.88388176, 0.88405962, 0.88536314, 0.8840893 , 0.88403202,\n",
       "        0.87925703, 0.88425327, 0.88495987, 0.88503381, 0.88304924]),\n",
       " 'split12_test_score': array([0.91189325, 0.91301521, 0.91466372, 0.90973204, 0.91030062,\n",
       "        0.91271989, 0.91230021, 0.91011509, 0.91449583, 0.91327099,\n",
       "        0.91143925, 0.90987032, 0.91206912, 0.91055118, 0.9104251 ,\n",
       "        0.91460399, 0.91006092, 0.91252014, 0.91223098, 0.91173877]),\n",
       " 'split13_test_score': array([0.88471695, 0.88499485, 0.88264648, 0.88572392, 0.88584611,\n",
       "        0.88495063, 0.88437155, 0.88585419, 0.88230499, 0.88455673,\n",
       "        0.88564983, 0.88604213, 0.88455317, 0.8857104 , 0.88595272,\n",
       "        0.88286517, 0.88588723, 0.88487828, 0.88487469, 0.8845276 ]),\n",
       " 'split14_test_score': array([0.82541697, 0.82490467, 0.82682897, 0.82177065, 0.82160354,\n",
       "        0.82449761, 0.82526422, 0.82318358, 0.82740874, 0.8250384 ,\n",
       "        0.82347529, 0.8217138 , 0.82486161, 0.82293565, 0.82355131,\n",
       "        0.82754788, 0.82329026, 0.8259059 , 0.82475577, 0.82489656]),\n",
       " 'split15_test_score': array([0.91469493, 0.91717663, 0.91406073, 0.91712098, 0.91740161,\n",
       "        0.91698363, 0.91546579, 0.9172449 , 0.91439594, 0.91641627,\n",
       "        0.91725731, 0.91737344, 0.91668707, 0.91735656, 0.91681764,\n",
       "        0.91474234, 0.91738991, 0.91701192, 0.9168066 , 0.91522642]),\n",
       " 'split16_test_score': array([0.89595233, 0.89420316, 0.89660903, 0.88611121, 0.88600168,\n",
       "        0.89527988, 0.89635099, 0.88785083, 0.8967564 , 0.8942701 ,\n",
       "        0.89092778, 0.8874422 , 0.89261626, 0.88951172, 0.88989345,\n",
       "        0.89688899, 0.88940106, 0.89521623, 0.89295149, 0.89692556]),\n",
       " 'split17_test_score': array([0.92526067, 0.92278026, 0.92648197, 0.92198173, 0.92240661,\n",
       "        0.92339678, 0.92445732, 0.92186948, 0.92623769, 0.9234644 ,\n",
       "        0.92190086, 0.92187107, 0.9226617 , 0.92233669, 0.92254563,\n",
       "        0.92671523, 0.92161437, 0.92359147, 0.92253098, 0.92467761]),\n",
       " 'split18_test_score': array([0.09276193, 0.10753893, 0.06798644, 0.09846578, 0.09746665,\n",
       "        0.1058074 , 0.09049025, 0.10185697, 0.06950542, 0.10493165,\n",
       "        0.10517267, 0.09726297, 0.11362401, 0.1014105 , 0.09985987,\n",
       "        0.06974231, 0.10148658, 0.10397688, 0.10973264, 0.09399252]),\n",
       " 'split19_test_score': array([0.83805314, 0.83521812, 0.84174956, 0.82696958, 0.82674857,\n",
       "        0.83631734, 0.83782346, 0.82890484, 0.84068166, 0.83484057,\n",
       "        0.83190715, 0.82767879, 0.83329392, 0.8309195 , 0.83073604,\n",
       "        0.84090847, 0.830969  , 0.83619508, 0.83311957, 0.83749077]),\n",
       " 'split20_test_score': array([0.91241523, 0.91381953, 0.91291038, 0.91453678, 0.91427078,\n",
       "        0.91326741, 0.91326501, 0.91460237, 0.91312205, 0.91309493,\n",
       "        0.91416353, 0.91450632, 0.91430512, 0.91428206, 0.91414927,\n",
       "        0.91299934, 0.91471277, 0.91320774, 0.91447032, 0.91261472]),\n",
       " 'split21_test_score': array([0.85851011, 0.84396538, 0.86220671, 0.79239462, 0.79218374,\n",
       "        0.8514087 , 0.85794752, 0.79890996, 0.8621684 , 0.84370493,\n",
       "        0.82502014, 0.79895806, 0.83518836, 0.81261072, 0.81266226,\n",
       "        0.86219693, 0.81261819, 0.85145725, 0.8348499 , 0.85812309]),\n",
       " 'split22_test_score': array([0.87749951, 0.87633596, 0.87592299, 0.87853286, 0.87851685,\n",
       "        0.87693951, 0.87724743, 0.87819197, 0.87602134, 0.87612977,\n",
       "        0.87780319, 0.87847613, 0.87697773, 0.87803877, 0.87793386,\n",
       "        0.87577659, 0.87819426, 0.87711268, 0.87723974, 0.8770705 ]),\n",
       " 'split23_test_score': array([0.59164987, 0.60443999, 0.57496989, 0.59431172, 0.59518066,\n",
       "        0.60289643, 0.59206157, 0.59760248, 0.57310849, 0.6053237 ,\n",
       "        0.59942336, 0.59522688, 0.60214844, 0.59658972, 0.59733463,\n",
       "        0.57350231, 0.59714061, 0.60292088, 0.60410012, 0.59261636]),\n",
       " 'split24_test_score': array([0.90566799, 0.90845067, 0.89942995, 0.90916485, 0.9087874 ,\n",
       "        0.90737528, 0.9060169 , 0.90926961, 0.89935502, 0.90862548,\n",
       "        0.90873286, 0.90918072, 0.90896494, 0.90916476, 0.90879843,\n",
       "        0.89934463, 0.90909792, 0.90756341, 0.90879463, 0.90563051]),\n",
       " 'split25_test_score': array([0.84261467, 0.84293194, 0.84019794, 0.83552174, 0.83632329,\n",
       "        0.84414054, 0.84248938, 0.83568642, 0.839449  , 0.84269783,\n",
       "        0.83662295, 0.83638105, 0.83970256, 0.83587241, 0.8361944 ,\n",
       "        0.83949536, 0.83621832, 0.84435528, 0.83896979, 0.8425237 ]),\n",
       " 'split26_test_score': array([0.8914588 , 0.89044434, 0.88982093, 0.89093869, 0.89105984,\n",
       "        0.89118417, 0.8915319 , 0.89110568, 0.88952681, 0.89022311,\n",
       "        0.89050214, 0.89071989, 0.89061183, 0.89101512, 0.89111361,\n",
       "        0.8899221 , 0.89096365, 0.89092828, 0.89043144, 0.89170366]),\n",
       " 'split27_test_score': array([0.92874911, 0.92781924, 0.92904975, 0.92705925, 0.92712172,\n",
       "        0.92783605, 0.92845934, 0.92698385, 0.92850377, 0.92751651,\n",
       "        0.92695278, 0.9272827 , 0.9272254 , 0.92755653, 0.92704826,\n",
       "        0.92906559, 0.92719698, 0.92803279, 0.92762766, 0.92875183]),\n",
       " 'split28_test_score': array([0.51227169, 0.5065968 , 0.51283501, 0.50573911, 0.50705741,\n",
       "        0.50942795, 0.51210235, 0.50616481, 0.51148136, 0.50710324,\n",
       "        0.50624341, 0.50697521, 0.50520717, 0.50617107, 0.50810199,\n",
       "        0.51347432, 0.50708775, 0.50738148, 0.50786818, 0.50837711]),\n",
       " 'split29_test_score': array([0.92443658, 0.92492299, 0.9244479 , 0.92266382, 0.92274264,\n",
       "        0.92490664, 0.9247401 , 0.92249721, 0.92435062, 0.92468632,\n",
       "        0.92350152, 0.92284719, 0.92410344, 0.92282244, 0.92301287,\n",
       "        0.92446616, 0.92286349, 0.92459165, 0.92415432, 0.92458421]),\n",
       " 'split30_test_score': array([0.85782503, 0.85955779, 0.85803659, 0.86343315, 0.86273776,\n",
       "        0.85870211, 0.85940906, 0.86316377, 0.85826159, 0.85895198,\n",
       "        0.86192731, 0.86385864, 0.86053778, 0.86290396, 0.86244667,\n",
       "        0.85800899, 0.86282831, 0.85881878, 0.86024126, 0.85923582]),\n",
       " 'split31_test_score': array([0.87476362, 0.87699338, 0.87192591, 0.87836275, 0.87812946,\n",
       "        0.87675806, 0.8743916 , 0.87834111, 0.87132333, 0.87735217,\n",
       "        0.87804289, 0.87844114, 0.87838845, 0.87849663, 0.87822312,\n",
       "        0.8718463 , 0.87811205, 0.8763003 , 0.87778935, 0.87475451]),\n",
       " 'split32_test_score': array([0.90031226, 0.9009161 , 0.89924928, 0.89679256, 0.89662815,\n",
       "        0.90091114, 0.90031747, 0.89865958, 0.89931519, 0.90087803,\n",
       "        0.90072493, 0.898688  , 0.9006589 , 0.89980607, 0.89979049,\n",
       "        0.89948479, 0.89981163, 0.90069355, 0.9007495 , 0.90048788]),\n",
       " 'split33_test_score': array([0.71187525, 0.71897849, 0.7061516 , 0.70442417, 0.70399294,\n",
       "        0.71977456, 0.71180645, 0.70630576, 0.70566844, 0.71922068,\n",
       "        0.70778704, 0.70627888, 0.71362739, 0.70689421, 0.70647834,\n",
       "        0.70525834, 0.70615508, 0.71937155, 0.71377299, 0.71231121]),\n",
       " 'split34_test_score': array([0.89676088, 0.89673828, 0.89555862, 0.89710063, 0.8968721 ,\n",
       "        0.89660491, 0.89663171, 0.89708289, 0.89598516, 0.8969286 ,\n",
       "        0.8970578 , 0.89727308, 0.89654476, 0.89689665, 0.89695402,\n",
       "        0.89563903, 0.89692848, 0.89635023, 0.8968041 , 0.89621272]),\n",
       " 'split35_test_score': array([0.92297996, 0.9208406 , 0.92293581, 0.91221791, 0.91229466,\n",
       "        0.92258402, 0.92299629, 0.9140056 , 0.92242129, 0.92066783,\n",
       "        0.91739653, 0.91388701, 0.919231  , 0.91544079, 0.91561019,\n",
       "        0.92291062, 0.91556091, 0.92238315, 0.91915014, 0.92298813]),\n",
       " 'split36_test_score': array([0.88823317, 0.88736318, 0.89034317, 0.88513584, 0.88472685,\n",
       "        0.88731027, 0.88759727, 0.88529517, 0.89028773, 0.88733567,\n",
       "        0.88663286, 0.88572636, 0.88663708, 0.88580836, 0.88546391,\n",
       "        0.89022445, 0.88546883, 0.88735033, 0.88687646, 0.88783152]),\n",
       " 'split37_test_score': array([0.89600686, 0.8930135 , 0.89271733, 0.88880345, 0.88839495,\n",
       "        0.89556358, 0.89583433, 0.88935726, 0.89325851, 0.89313096,\n",
       "        0.8913737 , 0.88856323, 0.8917003 , 0.89024693, 0.88982554,\n",
       "        0.89320778, 0.89020633, 0.895016  , 0.89185193, 0.89596078]),\n",
       " 'split38_test_score': array([0.90040019, 0.90226255, 0.90034616, 0.90301045, 0.90265563,\n",
       "        0.90074379, 0.90076871, 0.90272211, 0.90010625, 0.9020405 ,\n",
       "        0.902883  , 0.90286418, 0.90277091, 0.90320663, 0.9026206 ,\n",
       "        0.90099743, 0.9030671 , 0.90079356, 0.90260382, 0.90040163]),\n",
       " 'split39_test_score': array([0.18974551, 0.16208214, 0.21710275, 0.17603358, 0.17109537,\n",
       "        0.17038846, 0.18683776, 0.17182211, 0.212582  , 0.16414364,\n",
       "        0.16564513, 0.16981468, 0.16025887, 0.16601181, 0.16719904,\n",
       "        0.21699074, 0.16636193, 0.16811353, 0.16025826, 0.18428733]),\n",
       " 'mean_test_score': array([0.81714187, 0.81753032, 0.81603661, 0.81426832, 0.81410732,\n",
       "        0.81782372, 0.81708625, 0.81493924, 0.81564234, 0.81755378,\n",
       "        0.81618542, 0.81472606, 0.8170538 , 0.81547831, 0.81546837,\n",
       "        0.81590858, 0.81541506, 0.81759497, 0.81699678, 0.81694495]),\n",
       " 'std_test_score': array([0.19019603, 0.19032827, 0.1910991 , 0.19058806, 0.19110557,\n",
       "        0.18993653, 0.19065066, 0.19051054, 0.19173487, 0.19028565,\n",
       "        0.19055861, 0.19109255, 0.19004321, 0.19095604, 0.1908593 ,\n",
       "        0.19128725, 0.19090693, 0.19045229, 0.19029957, 0.19075137]),\n",
       " 'rank_test_score': array([ 5,  4, 11, 19, 20,  1,  6, 17, 13,  3, 10, 18,  7, 14, 15, 12, 16,\n",
       "         2,  8,  9], dtype=int32)}"
      ]
     },
     "execution_count": 30,
     "metadata": {},
     "output_type": "execute_result"
    }
   ],
   "source": [
    "Grid.cv_results_"
   ]
  },
  {
   "cell_type": "markdown",
   "metadata": {},
   "source": [
    "### Check the parameters of the best model"
   ]
  },
  {
   "cell_type": "code",
   "execution_count": 31,
   "metadata": {},
   "outputs": [
    {
     "data": {
      "text/plain": [
       "<bound method Pipeline.get_params of Pipeline(steps=[('preprocessor',\n",
       "                 ColumnTransformer(transformers=[('num',\n",
       "                                                  Pipeline(steps=[('imputer',\n",
       "                                                                   SimpleImputer(strategy='most_frequent')),\n",
       "                                                                  ('scaler',\n",
       "                                                                   StandardScaler())]),\n",
       "                                                  Index(['LotArea', 'OverallQual', '1stFlrSF', 'YearBuilt', 'YearRemodAdd',\n",
       "       'MasVnrArea', 'BsmtFinSF1', 'TotalBsmtSF', 'GrLivArea', 'FullBath',\n",
       "       'TotRmsAbvGrd', 'Fireplaces', 'GarageCars', 'GarageA...\n",
       "                                                                   OneHotEncoder(handle_unknown='ignore'))]),\n",
       "                                                  Index(['MSZoning', 'LotShape', 'LandContour', 'Neighborhood', 'Condition1',\n",
       "       'Condition2', 'HouseStyle', 'RoofMatl', 'Exterior1st', 'Exterior2nd',\n",
       "       'ExterQual', 'BsmtQual', 'BsmtExposure', 'KitchenQual', 'Functional',\n",
       "       'SaleType', 'SaleCondition'],\n",
       "      dtype='object'))])),\n",
       "                ('regressor', LinearSVR(C=0.4, max_iter=15000.0, tol=0.001))])>"
      ]
     },
     "execution_count": 31,
     "metadata": {},
     "output_type": "execute_result"
    }
   ],
   "source": [
    "#check the parameters of the best model\n",
    "best_model.get_params"
   ]
  },
  {
   "cell_type": "markdown",
   "metadata": {},
   "source": [
    "## Results"
   ]
  },
  {
   "cell_type": "code",
   "execution_count": 32,
   "metadata": {},
   "outputs": [
    {
     "name": "stdout",
     "output_type": "stream",
     "text": [
      "Metrics of y_test prediction:\n",
      "MSE: 742093272.8867687\n",
      "RMSE: 27241.388967649367\n",
      "R2: 0.8894580567425869\n"
     ]
    },
    {
     "data": {
      "image/png": "[encoded data removed]",
      "text/plain": [
       "<Figure size 720x432 with 1 Axes>"
      ]
     },
     "metadata": {
      "needs_background": "light"
     },
     "output_type": "display_data"
    }
   ],
   "source": [
    "y_pred_scaled = best_model.predict(X_test)\n",
    "y_pred = y_scaler.inverse_transform(y_pred_scaled.reshape(-1,1))\n",
    "y_test_real = y_scaler.inverse_transform(y_test.reshape(-1,1))\n",
    "y_test_real = y_test_real.ravel()\n",
    "\n",
    "# Show metrics\n",
    "print('Metrics of y_test prediction:')\n",
    "mse = mean_squared_error(y_test_real, y_pred.ravel())\n",
    "print(\"MSE:\", mse)\n",
    "rmse = np.sqrt(mse)\n",
    "print(\"RMSE:\", rmse)\n",
    "r2 = r2_score(y_test_real, y_pred.ravel())\n",
    "print(\"R2:\", r2)\n",
    "# Plot predicted vs actual\n",
    "\n",
    "\n",
    "\n",
    "fig = plt.figure(figsize = (10,6))\n",
    "plt.scatter(y_test_real.ravel(), y_pred.ravel())\n",
    "plt.xlabel(f'Actual')\n",
    "plt.ylabel(f'Predicted')\n",
    "plt.title('Predictions vs Actuals')\n",
    "z = np.polyfit(y_test_real.ravel(), y_pred.ravel(), 1)\n",
    "p = np.poly1d(z)\n",
    "plt.plot(y_test_real.ravel(), p(y_test_real.ravel()), color='magenta')\n",
    "plt.show()\n",
    "    "
   ]
  },
  {
   "cell_type": "code",
   "execution_count": null,
   "metadata": {},
   "outputs": [],
   "source": []
  }
 ],
 "metadata": {
  "kernelspec": {
   "display_name": "Python 3",
   "language": "python",
   "name": "python3"
  },
  "language_info": {
   "codemirror_mode": {
    "name": "ipython",
    "version": 3
   },
   "file_extension": ".py",
   "mimetype": "text/x-python",
   "name": "python",
   "nbconvert_exporter": "python",
   "pygments_lexer": "ipython3",
   "version": "3.8.5"
  },
  "toc": {
   "base_numbering": 1,
   "nav_menu": {},
   "number_sections": true,
   "sideBar": true,
   "skip_h1_title": true,
   "title_cell": "Table of Contents",
   "title_sidebar": "Contents",
   "toc_cell": true,
   "toc_position": {},
   "toc_section_display": true,
   "toc_window_display": true
  }
 },
 "nbformat": 4,
 "nbformat_minor": 4
}
